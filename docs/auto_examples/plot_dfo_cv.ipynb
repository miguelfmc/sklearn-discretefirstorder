{
  "cells": [
    {
      "cell_type": "code",
      "execution_count": null,
      "metadata": {
        "collapsed": false
      },
      "outputs": [],
      "source": [
        "%matplotlib inline"
      ]
    },
    {
      "cell_type": "markdown",
      "metadata": {},
      "source": [
        "\n# Cross Validation with DFO Regressor\n\nUsing CV to find the right number of features to\nkeep.\n"
      ]
    },
    {
      "cell_type": "code",
      "execution_count": null,
      "metadata": {
        "collapsed": false
      },
      "outputs": [],
      "source": [
        "import numpy as np\nimport matplotlib.pyplot as plt\n\nfrom sklearn.datasets import make_regression\nfrom sklearn.model_selection import train_test_split, GridSearchCV\n\nfrom discretefirstorder import DFORegressor"
      ]
    },
    {
      "cell_type": "markdown",
      "metadata": {},
      "source": [
        "## Creating a synthetic dataset with some uninformative features\nWe create a synthetic dataset with only 10 informative features.\nWe keep the true coefficients for comparison with the estimates.\n\n"
      ]
    },
    {
      "cell_type": "code",
      "execution_count": null,
      "metadata": {
        "collapsed": false
      },
      "outputs": [],
      "source": [
        "X, y, coef = make_regression(\n    n_samples=10000,\n    n_features=30,\n    n_informative=10,\n    coef=True,\n    bias=5,\n    noise=5,\n    random_state=11,\n)\nX_train, X_test, y_train, y_test = train_test_split(\n    X, y, test_size=0.15, random_state=42\n)"
      ]
    },
    {
      "cell_type": "markdown",
      "metadata": {},
      "source": [
        "## Grid search with k-fold cross validation to find the optimal cardinality parameter\nA priori, we don't know the optimal size of our feature subset.\nWe can use sweep through a list of possible values and perform\ncross validation to select the cardinality parameter that seems\nto provide the best fit.\nAs expected, the best score is achieved with a feature cardinality\nof 10, in this case.\n\n"
      ]
    },
    {
      "cell_type": "code",
      "execution_count": null,
      "metadata": {
        "collapsed": false
      },
      "outputs": [],
      "source": [
        "parameters = {\"k\": [2, 4, 6, 8, 10, 20, 30]}\ndfo = DFORegressor()\nclf = GridSearchCV(dfo, parameters)\nclf.fit(X_train, y_train)\n\nprint(clf.best_estimator_)\nprint(clf.best_score_)"
      ]
    },
    {
      "cell_type": "markdown",
      "metadata": {},
      "source": [
        "## Visualizing the mean CV scores for each value of the hyperparameter\n\n"
      ]
    },
    {
      "cell_type": "code",
      "execution_count": null,
      "metadata": {
        "collapsed": false
      },
      "outputs": [],
      "source": [
        "param_values = clf.cv_results_[\"param_k\"].data.astype(np.int64)\nmean_test_scores = clf.cv_results_[\"mean_test_score\"]\n\nfig, ax = plt.subplots(1, 1, figsize=(9, 6))\n\nax.plot(param_values, mean_test_scores, \"o-\")\n\nax.set_xlabel(\"Cardinality parameter $k$ (number of non-zero coefficients)\")\nax.set_ylabel(\"Mean CV R\u00b2 score\")\nax.set_title(\"Cross validation scores vs. DFO cardinality parameter\")\n\nplt.show()"
      ]
    }
  ],
  "metadata": {
    "kernelspec": {
      "display_name": "Python 3",
      "language": "python",
      "name": "python3"
    },
    "language_info": {
      "codemirror_mode": {
        "name": "ipython",
        "version": 3
      },
      "file_extension": ".py",
      "mimetype": "text/x-python",
      "name": "python",
      "nbconvert_exporter": "python",
      "pygments_lexer": "ipython3",
      "version": "3.8.13"
    }
  },
  "nbformat": 4,
  "nbformat_minor": 0
}