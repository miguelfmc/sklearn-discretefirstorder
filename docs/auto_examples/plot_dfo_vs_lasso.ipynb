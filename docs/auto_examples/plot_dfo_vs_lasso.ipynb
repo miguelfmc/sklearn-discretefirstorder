{
  "cells": [
    {
      "cell_type": "code",
      "execution_count": null,
      "metadata": {
        "collapsed": false
      },
      "outputs": [],
      "source": [
        "%matplotlib inline"
      ]
    },
    {
      "cell_type": "markdown",
      "metadata": {},
      "source": [
        "\n# Discrete first-order method vs. Lasso\n\nComparison of the support recovery of discrete first-order method\nand Lasso regression on a synthetic dataset.\n"
      ]
    },
    {
      "cell_type": "code",
      "execution_count": null,
      "metadata": {
        "collapsed": false
      },
      "outputs": [],
      "source": [
        "import numpy as np\nimport matplotlib.pyplot as plt\n\nfrom sklearn.datasets import make_regression\nfrom sklearn.linear_model import Lasso\nfrom sklearn.model_selection import train_test_split\n\nfrom discretefirstorder import DFORegressor"
      ]
    },
    {
      "cell_type": "markdown",
      "metadata": {},
      "source": [
        "## Creating a synthetic dataset with some uninformative features\nWe create a synthetic dataset with only 10 informative features.\nWe keep the true coefficients for comparison with the estimates.\n\n"
      ]
    },
    {
      "cell_type": "code",
      "execution_count": null,
      "metadata": {
        "collapsed": false
      },
      "outputs": [],
      "source": [
        "X, y, coef = make_regression(\n    n_samples=10000,\n    n_features=30,\n    n_informative=10,\n    coef=True,\n    bias=5,\n    noise=5,\n    random_state=11,\n)\nX_train, X_test, y_train, y_test = train_test_split(\n    X, y, test_size=0.15, random_state=42\n)"
      ]
    },
    {
      "cell_type": "markdown",
      "metadata": {},
      "source": [
        "## Lasso\n\n"
      ]
    },
    {
      "cell_type": "code",
      "execution_count": null,
      "metadata": {
        "collapsed": false
      },
      "outputs": [],
      "source": [
        "lasso = Lasso()\nlasso.fit(X_train, y_train)\nlasso_score = lasso.score(X_test, y_test)\nlasso_coef_error = np.sqrt(np.sum((lasso.coef_ - coef) ** 2))"
      ]
    },
    {
      "cell_type": "markdown",
      "metadata": {},
      "source": [
        "## DFO\n\n"
      ]
    },
    {
      "cell_type": "code",
      "execution_count": null,
      "metadata": {
        "collapsed": false
      },
      "outputs": [],
      "source": [
        "dfo = DFORegressor(k=10, fit_intercept=True, normalize=True)\ndfo.fit(X_train, y_train)\ndfo_score = dfo.score(X_test, y_test)\ndfo_coef_error = np.sqrt(np.sum((dfo.coef_ - coef) ** 2))"
      ]
    },
    {
      "cell_type": "markdown",
      "metadata": {},
      "source": [
        "## Comparison of the estimated coefficients\nWe can see that the discrete first-order method, in this case,\nseems to recover the coefficients more faithfully to the ground truth\n\n"
      ]
    },
    {
      "cell_type": "code",
      "execution_count": null,
      "metadata": {
        "collapsed": false
      },
      "outputs": [],
      "source": [
        "fig, ax = plt.subplots(1, 1, figsize=(9, 12))\n\nindex = np.arange(X.shape[1])\nbar_width = 0.25\n\nax.barh(index, coef, bar_width, label=\"Ground Truth\")\nax.barh(\n    index + bar_width,\n    dfo.coef_,\n    bar_width,\n    label=f\"DFO - R2={dfo_score:.4f}; coef. error={dfo_coef_error:.2f}\",\n)\nax.barh(\n    index + 2 * bar_width,\n    lasso.coef_,\n    bar_width,\n    label=f\"Lasso - R2={lasso_score:.4f}; coef. error={lasso_coef_error:.2f}\",\n)\n\nax.set_xlabel(\"Coefficient value\")\nax.set_ylabel(\"Feature\")\nax.set_title(\n    \"Lasso and DFO estimated regression coefficients compared to ground truth\"\n)\nax.set_yticks(index + bar_width)\nax.set_yticklabels([\"feat_\" + str(i) for i in range(X.shape[1])])\nax.grid(True)\nax.legend()\n\nplt.show()"
      ]
    }
  ],
  "metadata": {
    "kernelspec": {
      "display_name": "Python 3",
      "language": "python",
      "name": "python3"
    },
    "language_info": {
      "codemirror_mode": {
        "name": "ipython",
        "version": 3
      },
      "file_extension": ".py",
      "mimetype": "text/x-python",
      "name": "python",
      "nbconvert_exporter": "python",
      "pygments_lexer": "ipython3",
      "version": "3.8.13"
    }
  },
  "nbformat": 4,
  "nbformat_minor": 0
}