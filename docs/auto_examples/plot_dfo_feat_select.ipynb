{
  "cells": [
    {
      "cell_type": "code",
      "execution_count": null,
      "metadata": {
        "collapsed": false
      },
      "outputs": [],
      "source": [
        "%matplotlib inline"
      ]
    },
    {
      "cell_type": "markdown",
      "metadata": {},
      "source": [
        "\n# DFO Regressor for Subset Selection in a Pipeline\n\nIncluding DFORegressor as part of a sklearn pipeline.\n"
      ]
    },
    {
      "cell_type": "code",
      "execution_count": null,
      "metadata": {
        "collapsed": false
      },
      "outputs": [],
      "source": [
        "import time\n\nfrom sklearn.datasets import make_regression\nfrom sklearn.ensemble import RandomForestRegressor\nfrom sklearn.model_selection import train_test_split\nfrom sklearn.feature_selection import SelectFromModel\nfrom sklearn.pipeline import Pipeline\n\nfrom discretefirstorder import DFORegressor"
      ]
    },
    {
      "cell_type": "markdown",
      "metadata": {},
      "source": [
        "## Creating a synthetic dataset with some uninformative features\nWe create a synthetic dataset with only 10 informative features.\nWe keep the true coefficients for comparison with the estimates.\n\n"
      ]
    },
    {
      "cell_type": "code",
      "execution_count": null,
      "metadata": {
        "collapsed": false
      },
      "outputs": [],
      "source": [
        "X, y, coef = make_regression(\n    n_samples=10000,\n    n_features=30,\n    n_informative=10,\n    coef=True,\n    bias=5,\n    noise=5,\n    random_state=11,\n)\nX_train, X_test, y_train, y_test = train_test_split(\n    X, y, test_size=0.15, random_state=42\n)"
      ]
    },
    {
      "cell_type": "markdown",
      "metadata": {},
      "source": [
        "## Fit a RandomForestRegressor directly on the data\nWe fit an out-of-the-box scikit-learn RF regressor\non all of the original features of our training dataset\nLet's time how long this takes and the score (R\u00b2 in this case)\non our test dataset.\n\n"
      ]
    },
    {
      "cell_type": "code",
      "execution_count": null,
      "metadata": {
        "collapsed": false
      },
      "outputs": [],
      "source": [
        "rf = RandomForestRegressor(500, random_state=42)\n\nt0 = time.perf_counter()\nrf.fit(X_train, y_train)\ndelta = time.perf_counter() - t0\n\nrf_time = delta\nrf_score = rf.score(X_test, y_test)\n\nprint(f\"Random Forest fit time: {rf_time:.4f}\")\nprint(f\"Random Forest R\u00b2 score on test set: {rf_score:.4f}\")"
      ]
    },
    {
      "cell_type": "markdown",
      "metadata": {},
      "source": [
        "## Use the discrete first-order method for subset selection as part of a Pipeline\nNow we construct a scikit-learn pipeline that includes\nthat includes a feature selection step based on the DFORegressor.\n\n"
      ]
    },
    {
      "cell_type": "code",
      "execution_count": null,
      "metadata": {
        "collapsed": false
      },
      "outputs": [],
      "source": [
        "# using a very small selection threshold to select all features with non-zero coefs\npipeline = Pipeline(\n    [\n        (\n            \"selector\",\n            SelectFromModel(estimator=DFORegressor(k=10), threshold=1e-5),\n        ),\n        (\"rf\", RandomForestRegressor(500, random_state=42)),\n    ]\n)\nt0 = time.perf_counter()\npipeline.fit(X_train, y_train)\ndelta = time.perf_counter() - t0\n\npipeline_time = delta\npipeline_score = pipeline.score(X_test, y_test)\n\nprint(f\"DFO + RF Pipeline fit time: {pipeline_time:.4f}\")\nprint(f\"DFO + RF Pipeline R\u00b2 score on test set: {pipeline_score:.4f}\")"
      ]
    }
  ],
  "metadata": {
    "kernelspec": {
      "display_name": "Python 3",
      "language": "python",
      "name": "python3"
    },
    "language_info": {
      "codemirror_mode": {
        "name": "ipython",
        "version": 3
      },
      "file_extension": ".py",
      "mimetype": "text/x-python",
      "name": "python",
      "nbconvert_exporter": "python",
      "pygments_lexer": "ipython3",
      "version": "3.8.13"
    }
  },
  "nbformat": 4,
  "nbformat_minor": 0
}